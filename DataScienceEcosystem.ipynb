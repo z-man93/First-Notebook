{
 "cells": [
  {
   "cell_type": "markdown",
   "id": "07ce6b70-d093-4d25-b6bb-f649d3f33061",
   "metadata": {},
   "source": [
    "# Data Science Tools and Ecosystem"
   ]
  },
  {
   "cell_type": "markdown",
   "id": "556cfcf5-5c54-43e5-b787-b057fca104f7",
   "metadata": {},
   "source": [
    "In this notebook, the tools and Ecosystem for Data Science have been summarized."
   ]
  },
  {
   "cell_type": "markdown",
   "id": "ce1c7a71-f826-46ec-89b5-3f8e4e4c61b8",
   "metadata": {},
   "source": [
    "**Objectives:**\n",
    "\n",
    "*List some popular languages for Data Science\n",
    "\n",
    "*List commonly used libraries for Data Science\n",
    "\n",
    "*Show examples of arithmetic expressions in Python"
   ]
  },
  {
   "cell_type": "markdown",
   "id": "268c3d2b-2c1f-42f5-b3f4-dbc879c01128",
   "metadata": {},
   "source": [
    "Some of the popular languages that are used for Data Science are:\n",
    "\n",
    "1. Python\n",
    "2. R\n",
    "3. SQL"
   ]
  },
  {
   "cell_type": "markdown",
   "id": "6f89669a-ead2-4ef7-aaa3-c8b998e556c5",
   "metadata": {},
   "source": [
    "While some of the commonly used libraries for Data Science are:\n",
    "\n",
    "1. Pandas\n",
    "2. NumPy\n",
    "3. Matplotlib\n",
    "4. Seaborn\n",
    "5. scikit-learn"
   ]
  },
  {
   "cell_type": "markdown",
   "id": "28af7388-84e5-4c99-ac35-6cc387ff6908",
   "metadata": {},
   "source": [
    "| Data Science Tools |\n",
    "|--------------------|\n",
    "| Jupyter Notebooks|\n",
    "| JupyterLab |\n",
    "| RStudio|"
   ]
  },
  {
   "cell_type": "markdown",
   "id": "63171ae6-ca7f-40a7-abb3-164702fc9f31",
   "metadata": {},
   "source": [
    "### Here are some examples of arithmetic expressions in Python"
   ]
  },
  {
   "cell_type": "code",
   "execution_count": 3,
   "id": "7ba65334-ee75-4b7e-9a37-906e3131800f",
   "metadata": {
    "tags": []
   },
   "outputs": [
    {
     "data": {
      "text/plain": [
       "17"
      ]
     },
     "execution_count": 3,
     "metadata": {},
     "output_type": "execute_result"
    }
   ],
   "source": [
    "# This expression will multiply and add integers\n",
    "(3*4)+5"
   ]
  },
  {
   "cell_type": "code",
   "execution_count": 10,
   "id": "c02f06d6-ca95-40db-8279-34336948330b",
   "metadata": {
    "tags": []
   },
   "outputs": [
    {
     "data": {
      "text/plain": [
       "3.3333333333333335"
      ]
     },
     "execution_count": 10,
     "metadata": {},
     "output_type": "execute_result"
    }
   ],
   "source": [
    "# This will convert 200 minutes (m) into hours (h) when divided by 60\n",
    "h = 60\n",
    "m = 200\n",
    "m/h"
   ]
  },
  {
   "cell_type": "markdown",
   "id": "23e91589-262b-470d-a187-273646de8167",
   "metadata": {},
   "source": [
    "## Author\n",
    "Zac A."
   ]
  },
  {
   "cell_type": "code",
   "execution_count": null,
   "id": "c0aed7b1-b823-4e76-8264-70403fe81b0d",
   "metadata": {},
   "outputs": [],
   "source": []
  }
 ],
 "metadata": {
  "kernelspec": {
   "display_name": "Python",
   "language": "python",
   "name": "conda-env-python-py"
  },
  "language_info": {
   "codemirror_mode": {
    "name": "ipython",
    "version": 3
   },
   "file_extension": ".py",
   "mimetype": "text/x-python",
   "name": "python",
   "nbconvert_exporter": "python",
   "pygments_lexer": "ipython3",
   "version": "3.7.12"
  }
 },
 "nbformat": 4,
 "nbformat_minor": 5
}
